{
 "cells": [
  {
   "cell_type": "code",
   "execution_count": null,
   "id": "161107ae-b3dd-47f6-ab7b-cc67ed84b8a8",
   "metadata": {},
   "outputs": [],
   "source": [
    "library(anndata)\n",
    "library(Seurat)\n",
    "library(estimate)"
   ]
  },
  {
   "cell_type": "code",
   "execution_count": null,
   "id": "73fa321f-5ff9-48c8-9b0c-f9a64d329855",
   "metadata": {},
   "outputs": [],
   "source": [
    "estimateScore(\"/mnt/c/Users/demeter_turos/PycharmProjects/persistance/data/human_samples/raw_matrix.gct\", \"/mnt/c/Users/demeter_turos/PycharmProjects/persistance/data/human_samples/estimate_matrix.gct\", platform=\"illumina\")"
   ]
  }
 ],
 "metadata": {
  "kernelspec": {
   "display_name": "R",
   "language": "R",
   "name": "ir"
  },
  "language_info": {
   "codemirror_mode": "r",
   "file_extension": ".r",
   "mimetype": "text/x-r-source",
   "name": "R",
   "pygments_lexer": "r",
   "version": "4.3.1"
  }
 },
 "nbformat": 4,
 "nbformat_minor": 5
}
