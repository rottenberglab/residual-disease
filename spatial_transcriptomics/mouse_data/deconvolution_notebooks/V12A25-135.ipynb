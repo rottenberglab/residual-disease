{
 "cells": [
  {
   "cell_type": "code",
   "execution_count": null,
   "id": "6a25b646-df5e-4bbb-9dcf-f928b9e21bd7",
   "metadata": {},
   "outputs": [],
   "source": [
    "import sys\n",
    "\n",
    "import scanpy as sc\n",
    "import anndata\n",
    "import pandas as pd\n",
    "import numpy as np\n",
    "import matplotlib.pyplot as plt\n",
    "import matplotlib as mpl\n",
    "\n",
    "import cell2location\n",
    "from cell2location.models import RegressionModel\n",
    "import scvi\n",
    "\n",
    "from matplotlib import rcParams\n",
    "rcParams['pdf.fonttype'] = 42 # enables correct plotting of text\n",
    "import seaborn as sns\n",
    "\n",
    "results_folder = './results/integrated/'\n",
    "\n",
    "# create paths and names to results folders for reference regression and cell2location models\n",
    "ref_run_name = f'{results_folder}/reference_signatures'\n",
    "run_name = f'{results_folder}/cell2location_map'"
   ]
  },
  {
   "cell_type": "code",
   "execution_count": null,
   "id": "a4a4b85f-20da-41bc-bb59-d148fb811f67",
   "metadata": {},
   "outputs": [],
   "source": [
    "adata_vis = sc.read_h5ad('/mnt/c/Users/demeter_turos/PycharmProjects/BearOmics/data/spatial_adata/V12A25-135.h5ad')\n",
    "\n",
    "# adata_vis.obs['sample'] = list(adata_vis.uns['spatial'].keys())[0]\n",
    "\n",
    "# rename genes to ENSEMBL\n",
    "adata_vis.var['SYMBOL'] = adata_vis.var_names\n",
    "# adata_vis.var_names = adata_vis.var['gene_ids']\n",
    "# adata_vis.var_names.name = None\n",
    "\n",
    "adata_vis"
   ]
  },
  {
   "cell_type": "code",
   "execution_count": null,
   "id": "590ec58a-44ec-4e39-8183-bb7d29776566",
   "metadata": {},
   "outputs": [],
   "source": [
    "# Read data\n",
    "adata_ref = sc.read(f'/mnt/c/Users/demeter_turos/PycharmProjects/BearOmics/data/sc_adata/sc_v1_raw.h5ad')\n",
    "\n",
    "# Use ENSEMBL as gene IDs to make sure IDs are unique and correctly matched\n",
    "adata_ref.var['SYMBOL'] = adata_ref.var.index\n",
    "adata_ref.var['mt'] = adata_ref.var_names.str.startswith('mt-')\n",
    "adata_ref = adata_ref[:, adata_ref.var['mt'] == False]\n",
    "\n",
    "print(adata_ref.X[:10, :10])\n",
    "adata_ref"
   ]
  },
  {
   "cell_type": "code",
   "execution_count": null,
   "id": "9de9b424-bd31-47cf-8c5f-1b8bf12681a1",
   "metadata": {},
   "outputs": [],
   "source": [
    "# before we estimate the reference cell type signature we recommend to perform very permissive genes selection\n",
    "# in this 2D histogram orange rectangle lays over excluded genes.\n",
    "from cell2location.utils.filtering import filter_genes\n",
    "selected = filter_genes(adata_ref, cell_count_cutoff=5, cell_percentage_cutoff2=0.03, nonz_mean_cutoff=1.12)\n",
    "\n",
    "# filter the object\n",
    "adata_ref = adata_ref[:, selected].copy()"
   ]
  },
  {
   "cell_type": "code",
   "execution_count": null,
   "id": "f5ce953e-54fd-43c4-bc82-95e145c750f0",
   "metadata": {},
   "outputs": [],
   "source": [
    "# prepare anndata for the regression model\n",
    "RegressionModel.setup_anndata(adata_ref,\n",
    "                        # 10X reaction / sample / batch\n",
    "                        batch_key='batch',\n",
    "                        # cell type, covariate used for constructing signatures\n",
    "                        labels_key='hires',\n",
    "                       )"
   ]
  },
  {
   "cell_type": "code",
   "execution_count": null,
   "id": "d2201475-ea58-4312-8f3d-b4f608ad71ee",
   "metadata": {},
   "outputs": [],
   "source": [
    "mod = RegressionModel(adata_ref)\n",
    "mod.view_anndata_setup()"
   ]
  },
  {
   "cell_type": "code",
   "execution_count": null,
   "id": "30cf6f22-9700-432e-be29-2370057caaa0",
   "metadata": {},
   "outputs": [],
   "source": [
    "# Use all data for training (validation not implemented yet, train_size=1)\n",
    "mod.train(max_epochs=1000, batch_size=5000, train_size=1, lr=0.002, use_gpu=True)\n",
    "\n",
    "# plot ELBO loss history during training, removing first 20 epochs from the plot\n",
    "mod.plot_history(20)"
   ]
  },
  {
   "cell_type": "code",
   "execution_count": null,
   "id": "c6e12d5d-f727-40a0-92b8-3576b8cd0392",
   "metadata": {},
   "outputs": [],
   "source": [
    "adata_ref = mod.export_posterior(\n",
    "    adata_ref, sample_kwargs={'num_samples': 1000, 'batch_size': 2500, 'use_gpu': True}\n",
    ")\n",
    "\n",
    "# Save model\n",
    "mod.save(f\"{ref_run_name}\", overwrite=True)\n",
    "\n",
    "# Save anndata object with results\n",
    "adata_file = f\"{ref_run_name}/sc.h5ad\"\n",
    "adata_ref.write(adata_file)\n",
    "adata_file\n",
    "\n",
    "mod.plot_QC()"
   ]
  },
  {
   "cell_type": "code",
   "execution_count": null,
   "id": "32c7c5fa-c02d-4160-a83b-19ff2f94c6b1",
   "metadata": {},
   "outputs": [],
   "source": [
    "adata_file = f\"{ref_run_name}/sc.h5ad\"\n",
    "adata_ref = sc.read_h5ad(adata_file)\n",
    "mod = cell2location.models.RegressionModel.load(f\"{ref_run_name}\", adata_ref)"
   ]
  },
  {
   "cell_type": "code",
   "execution_count": null,
   "id": "4b69a26a-13f2-4b7b-9a9c-9761e70fb738",
   "metadata": {},
   "outputs": [],
   "source": [
    "# export estimated expression in each cluster\n",
    "if 'means_per_cluster_mu_fg' in adata_ref.varm.keys():\n",
    "    inf_aver = adata_ref.varm['means_per_cluster_mu_fg'][[f'means_per_cluster_mu_fg_{i}' \n",
    "                                    for i in adata_ref.uns['mod']['factor_names']]].copy()\n",
    "else:\n",
    "    inf_aver = adata_ref.var[[f'means_per_cluster_mu_fg_{i}' \n",
    "                                    for i in adata_ref.uns['mod']['factor_names']]].copy()\n",
    "inf_aver.columns = adata_ref.uns['mod']['factor_names']\n",
    "print(inf_aver.iloc[0:5, 0:5])\n",
    "\n",
    "# find shared genes and subset both anndata and reference signatures\n",
    "intersect = np.intersect1d(adata_vis.var_names, inf_aver.index)\n",
    "adata_vis = adata_vis[:, intersect].copy()\n",
    "inf_aver = inf_aver.loc[intersect, :].copy()\n",
    "\n",
    "cell2location.models.Cell2location.setup_anndata(adata=adata_vis, batch_key='sample')"
   ]
  },
  {
   "cell_type": "code",
   "execution_count": null,
   "id": "429118ad-2bda-4379-bb8e-7f343328fad4",
   "metadata": {},
   "outputs": [],
   "source": [
    "# create and train the model\n",
    "mod = cell2location.models.Cell2location(\n",
    "    adata_vis, cell_state_df=inf_aver, \n",
    "    # the expected average cell abundance: tissue-dependent \n",
    "    # hyper-prior which can be estimated from paired histology:\n",
    "    N_cells_per_location=30,\n",
    "    # hyperparameter controlling normalisation of\n",
    "    # within-experiment variation in RNA detection (using default here):\n",
    "    detection_alpha=20\n",
    ") \n",
    "\n",
    "mod.view_anndata_setup()"
   ]
  },
  {
   "cell_type": "code",
   "execution_count": null,
   "id": "e3aab787-2f13-4abc-8086-4b7b3c749398",
   "metadata": {},
   "outputs": [],
   "source": [
    "mod.train(max_epochs=3000, \n",
    "          # train using full data (batch_size=None)\n",
    "          batch_size=3000, \n",
    "          # use all data points in training because \n",
    "          # we need to estimate cell abundance at all locations\n",
    "          train_size=1,\n",
    "          use_gpu=True)\n",
    "\n",
    "# plot ELBO loss history during training, removing first 100 epochs from the plot\n",
    "mod.plot_history(100)\n",
    "plt.legend(labels=['full data training']);"
   ]
  },
  {
   "cell_type": "code",
   "execution_count": null,
   "id": "4562aa55-3ac5-4bb7-8d86-91692388aaea",
   "metadata": {},
   "outputs": [],
   "source": [
    "mod.adata.n_obs"
   ]
  },
  {
   "cell_type": "code",
   "execution_count": null,
   "id": "0d8d5018-21df-4f52-ab1c-149681848d0b",
   "metadata": {},
   "outputs": [],
   "source": [
    "run_name"
   ]
  },
  {
   "cell_type": "code",
   "execution_count": null,
   "id": "b576ab81-36eb-45bf-83cb-31c8956a6b0d",
   "metadata": {},
   "outputs": [],
   "source": [
    "# In this section, we export the estimated cell abundance (summary of the posterior distribution).\n",
    "adata_vis = mod.export_posterior(\n",
    "    adata_vis, sample_kwargs={'num_samples': 1000, 'batch_size': 3000, 'use_gpu': True}\n",
    ")\n",
    "\n",
    "# Save model\n",
    "mod.save(f\"{run_name}\", overwrite=True)\n",
    "\n",
    "# mod = cell2location.models.Cell2location.load(f\"{run_name}\", adata_vis)\n",
    "\n",
    "# Save anndata object with results\n",
    "adata_file = f\"{run_name}/sp.h5ad\"\n",
    "adata_vis.write(adata_file)\n",
    "adata_file"
   ]
  },
  {
   "cell_type": "code",
   "execution_count": null,
   "id": "a2417a5b-ceda-44db-9b66-5f1d434f37ea",
   "metadata": {},
   "outputs": [],
   "source": [
    "mod = cell2location.models.Cell2location.load(f\"{run_name}\", adata_vis)\n",
    "adata_file = f\"{run_name}/sp.h5ad\"\n",
    "adata_vis = sc.read_h5ad(adata_file)"
   ]
  },
  {
   "cell_type": "code",
   "execution_count": null,
   "id": "32478899-803d-41b6-9395-20a962cbfb9f",
   "metadata": {},
   "outputs": [],
   "source": [
    "adata_ref.obs['hires'].cat.categories"
   ]
  },
  {
   "cell_type": "code",
   "execution_count": null,
   "id": "69871883-db8d-4f0c-b3bc-9883b1589d47",
   "metadata": {},
   "outputs": [],
   "source": [
    "adata_vis.obs['sample'].cat.categories"
   ]
  },
  {
   "cell_type": "code",
   "execution_count": null,
   "id": "ebd27bc4-0e13-4b89-8456-e31a67dd7ac1",
   "metadata": {},
   "outputs": [],
   "source": [
    "# add 5% quantile, representing confident cell abundance, 'at least this amount is present', \n",
    "# to adata.obs with nice names for plotting\n",
    "adata_vis.obs[adata_vis.uns['mod']['factor_names']] = adata_vis.obsm['q05_cell_abundance_w_sf']\n",
    "\n",
    "# select one slide\n",
    "from cell2location.utils import select_slide\n",
    "# slide = select_slide(adata_vis, 'V1_Human_Lymph_Node')\n",
    "\n",
    "for s in adata_vis.obs['sample'].cat.categories:\n",
    "\n",
    "    ad = adata_vis[adata_vis.obs['sample'] == s, :].copy()\n",
    "\n",
    "    # plot in spatial coordinates\n",
    "    with mpl.rc_context({'axes.facecolor':  'black',\n",
    "                         'figure.figsize': [4.5, 5]}):\n",
    "\n",
    "        sc.pl.spatial(ad, cmap='magma',\n",
    "                      # show first 8 cell types\n",
    "                      color=list(adata_ref.obs['hires'].cat.categories), \n",
    "                      ncols=4, size=1.3, \n",
    "                      img_key='hires',\n",
    "                      # limit color scale at 99.2% quantile of cell abundance\n",
    "                      vmin=0, vmax='p99.2',\n",
    "                      library_id=s,\n",
    "                     )"
   ]
  },
  {
   "cell_type": "code",
   "execution_count": null,
   "id": "1de14217-b22f-4a9c-b293-d27ab749e854",
   "metadata": {},
   "outputs": [],
   "source": [
    "# Now we use cell2location plotter that allows showing multiple cell types in one panel\n",
    "from cell2location.plt import plot_spatial\n",
    "\n",
    "clust_labels = ['Spp1Macrophage', 'TProliferating', 'TBasal2']\n",
    "clust_col = ['' + str(i) for i in clust_labels] # in case column names differ from labels\n",
    "\n",
    "slide = select_slide(adata_vis, '4_13')\n",
    "\n",
    "with mpl.rc_context({'figure.figsize': (15, 15)}):\n",
    "    fig = plot_spatial(\n",
    "        adata=slide, \n",
    "        # labels to show on a plot\n",
    "        color=clust_col, labels=clust_labels, \n",
    "        show_img=True,\n",
    "        # 'fast' (white background) or 'dark_background'\n",
    "        style='fast', \n",
    "        # limit color scale at 99.2% quantile of cell abundance\n",
    "        max_color_quantile=0.992,\n",
    "        # size of locations (adjust depending on figure size)\n",
    "        circle_diameter=6, \n",
    "        colorbar_position='right')"
   ]
  }
 ],
 "metadata": {
  "kernelspec": {
   "display_name": "Environment (cell2loc_env)",
   "language": "python",
   "name": "cell2loc_env"
  },
  "language_info": {
   "codemirror_mode": {
    "name": "ipython",
    "version": 3
   },
   "file_extension": ".py",
   "mimetype": "text/x-python",
   "name": "python",
   "nbconvert_exporter": "python",
   "pygments_lexer": "ipython3",
   "version": "3.9.12"
  }
 },
 "nbformat": 4,
 "nbformat_minor": 5
}
